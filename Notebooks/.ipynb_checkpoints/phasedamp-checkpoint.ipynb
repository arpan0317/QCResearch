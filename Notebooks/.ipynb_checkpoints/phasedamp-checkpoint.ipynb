{
 "cells": [
  {
   "cell_type": "code",
   "execution_count": 18,
   "id": "06398c3e",
   "metadata": {
    "scrolled": true
   },
   "outputs": [
    {
     "name": "stdout",
     "output_type": "stream",
     "text": [
      "+--------+-----+\n",
      "| rv(I)  | 0.9 |\n",
      "+--------+-----+\n",
      "| rv(PD) | 0.1 |\n",
      "+--------+-----+\n",
      "<class 'pgmpy.factors.discrete.DiscreteFactor.DiscreteFactor'>\n",
      "+---------+-------------+\n",
      "| q0m1    |   phi(q0m1) |\n",
      "+=========+=============+\n",
      "| q0m1(I) |      0.5000 |\n",
      "+---------+-------------+\n",
      "| q0m1(X) |      0.0000 |\n",
      "+---------+-------------+\n",
      "| q0m1(Y) |      0.0000 |\n",
      "+---------+-------------+\n",
      "| q0m1(Z) |      0.5000 |\n",
      "+---------+-------------+\n",
      "+--------+-----------+\n",
      "| rv     |   phi(rv) |\n",
      "+========+===========+\n",
      "| rv(I)  |    0.5000 |\n",
      "+--------+-----------+\n",
      "| rv(PD) |    0.5000 |\n",
      "+--------+-----------+\n"
     ]
    }
   ],
   "source": [
    "#!/usr/bin/env python\n",
    "\n",
    "from pgmpy.models import BayesianNetwork\n",
    "from pgmpy.models import MarkovNetwork\n",
    "from pgmpy.factors.discrete.CPD import TabularCPD\n",
    "from pgmpy.inference import VariableElimination\n",
    "from math import sqrt\n",
    "\n",
    "PhaseDamping = BayesianNetwork([\n",
    "    ('q0m0', 'q0m1'),\n",
    "    ('rv', 'q0m1'),\n",
    "    # ('q0m1', 'meas'),\n",
    "])\n",
    "\n",
    "q0m0 = TabularCPD (\n",
    "    variable = 'q0m0',\n",
    "    variable_card = 4,\n",
    "    values = [[1/2], [0], [0], [1/2]],\n",
    "    state_names={'q0m0': ['I', 'X', 'Y', 'Z']}\n",
    ")\n",
    "\n",
    "rv = TabularCPD (\n",
    "    variable = 'rv',\n",
    "    variable_card = 2,\n",
    "    values = [[(1+sqrt(1-9/25))/2], [(1-sqrt(1-9/25))/2]],\n",
    "    state_names={'rv': ['I', 'PD']}\n",
    ")\n",
    "\n",
    "print(rv)\n",
    "\n",
    "q0m1 = TabularCPD (\n",
    "    variable='q0m1',\n",
    "    variable_card = 4,\n",
    "    values = [\n",
    "        [ 1,0,0,0, 1,0,0,0 ],\n",
    "        [ 0,1,0,0, 0,-1,0,0 ],\n",
    "        [ 0,0,1,0, 0,0,-1,0 ],\n",
    "        [ 0,0,0,1, 0,0,0,1 ],\n",
    "    ],\n",
    "    evidence = [ 'rv', 'q0m0' ],\n",
    "    evidence_card = [2,4],\n",
    "    state_names={'rv': ['I', 'PD'], 'q0m0': ['I', 'X', 'Y', 'Z'], 'q0m1': ['I', 'X', 'Y', 'Z']}\n",
    ")\n",
    "\n",
    "# meas = TabularCPD (\n",
    "#     variable='meas',\n",
    "#     variable_card = 2,\n",
    "#     values = [\n",
    "#         [ 1,1,0,0 ],\n",
    "#         [ 1,-1,0,0 ],\n",
    "#     ],\n",
    "#     evidence = ['q0m1'],\n",
    "#     evidence_card = [4],\n",
    "#     state_names={'q0m1': ['I', 'X', 'Y', 'Z'], 'meas': ['|+><+|', '|-><-|']}\n",
    "# )\n",
    "\n",
    "PhaseDamping.add_cpds(\n",
    "    q0m0,\n",
    "    rv,\n",
    "    q0m1,\n",
    "    # meas\n",
    ")\n",
    "outcome = VariableElimination(PhaseDamping.to_markov_model()).query(['q0m1'])\n",
    "print(type(outcome))\n",
    "print(outcome)\n",
    "\n",
    "# exit()\n",
    "\n",
    "PhaseDampingParam = BayesianNetwork([\n",
    "    ('q0m0', 'q0m1'),\n",
    "    ('rv', 'q0m1'),\n",
    "    # ('q0m1', 'meas'),\n",
    "])\n",
    "PhaseDampingParam.add_cpds(q0m0,q0m1)\n",
    "PhaseDampingParamMN = PhaseDampingParam.to_markov_model()\n",
    "PhaseDampingParamMN.add_factors(outcome)\n",
    "print(VariableElimination(PhaseDampingParamMN).query(['rv']))"
   ]
  },
  {
   "cell_type": "code",
   "execution_count": 23,
   "id": "57b789ae",
   "metadata": {},
   "outputs": [],
   "source": [
    "from qiskit import QuantumCircuit\n",
    "from qiskit import Aer, transpile\n",
    "from qiskit.tools.visualization import plot_histogram, plot_state_city\n",
    "import qiskit.quantum_info as qi"
   ]
  },
  {
   "cell_type": "code",
   "execution_count": 28,
   "id": "e154efff",
   "metadata": {},
   "outputs": [
    {
     "data": {
      "image/png": "[encoded data removed]",
      "text/plain": [
       "<Figure size 700x500 with 1 Axes>"
      ]
     },
     "execution_count": 28,
     "metadata": {},
     "output_type": "execute_result"
    }
   ],
   "source": [
    "simulator = Aer.get_backend('aer_simulator')\n",
    "\n",
    "circ = QuantumCircuit(2)\n",
    "circ.h(0)\n",
    "circ.cx(0, 1)\n",
    "circ.measure_all()\n",
    "\n",
    "# Transpile for simulator\n",
    "simulator = Aer.get_backend('aer_simulator')\n",
    "circ = transpile(circ, simulator)\n",
    "\n",
    "# Run and get counts\n",
    "result = simulator.run(circ, shots = 1000).result()\n",
    "counts = result.get_counts(circ)\n",
    "plot_histogram(counts, title='Bell-State counts')"
   ]
  }
 ],
 "metadata": {
  "kernelspec": {
   "display_name": "Python 3 (ipykernel)",
   "language": "python",
   "name": "python3"
  },
  "language_info": {
   "codemirror_mode": {
    "name": "ipython",
    "version": 3
   },
   "file_extension": ".py",
   "mimetype": "text/x-python",
   "name": "python",
   "nbconvert_exporter": "python",
   "pygments_lexer": "ipython3",
   "version": "3.8.8"
  }
 },
 "nbformat": 4,
 "nbformat_minor": 5
}
