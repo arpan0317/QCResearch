{
 "cells": [
  {
   "cell_type": "code",
   "execution_count": 1,
   "id": "f6d06c82",
   "metadata": {},
   "outputs": [
    {
     "name": "stderr",
     "output_type": "stream",
     "text": [
      "C:\\Users\\arpan\\anaconda3\\lib\\site-packages\\numpy\\_distributor_init.py:30: UserWarning: loaded more than 1 DLL from .libs:\n",
      "C:\\Users\\arpan\\anaconda3\\lib\\site-packages\\numpy\\.libs\\libopenblas.FB5AE2TYXYH2IJRDKGDGQ3XBKLKTF43H.gfortran-win_amd64.dll\n",
      "C:\\Users\\arpan\\anaconda3\\lib\\site-packages\\numpy\\.libs\\libopenblas.PYQHXLVVQ7VESDPUVUADXEVJOBGHJPAY.gfortran-win_amd64.dll\n",
      "  warnings.warn(\"loaded more than 1 DLL from .libs:\"\n"
     ]
    }
   ],
   "source": [
    "from pgmpy.models import BayesianNetwork\n",
    "from pgmpy.models import MarkovNetwork\n",
    "from pgmpy.factors.discrete.CPD import TabularCPD\n",
    "from pgmpy.inference import VariableElimination\n",
    "from math import sqrt"
   ]
  },
  {
   "cell_type": "code",
   "execution_count": 7,
   "id": "e9fb388b",
   "metadata": {},
   "outputs": [],
   "source": [
    "q0m0 = TabularCPD (\n",
    "    variable = 'q0m0',\n",
    "    variable_card = 4,\n",
    "    values = [[1/2], [-1/2], [0], [0]],\n",
    "    state_names={'q0m0': ['I', 'X', 'Y', 'Z']}\n",
    ")\n",
    "\n",
    "rv = TabularCPD (\n",
    "    variable = 'rv',\n",
    "    variable_card = 2,\n",
    "    values = [[(1+sqrt(1-9/25))/2], [(1-sqrt(1-9/25))/2]],\n",
    "    state_names={'rv': ['I', 'AD']}\n",
    ")\n",
    "\"\"\"\n",
    "rv0 = TabularCPD (\n",
    "    variable = 'rv0',\n",
    "    variable_card = 2,\n",
    "    values = [[1, 0], [0, 1]],\n",
    "    evidence = [ 'rv' ],\n",
    "    evidence_card = [2],\n",
    "    state_names={'rv': ['I', 'AD'], 'rv0': ['I', 'AD']}\n",
    ")\n",
    "rv1 = TabularCPD (\n",
    "    variable = 'rv1',\n",
    "    variable_card = 2,\n",
    "    values = [[1, 0], [0, 1]],\n",
    "    evidence = [ 'rv' ],\n",
    "    evidence_card = [2],\n",
    "    state_names={'rv': ['I', 'AD'], 'rv1': ['I', 'AD']}\n",
    ")\n",
    "\"\"\"\n",
    "\n",
    "# print(rv0)\n",
    "\n",
    "q0m1 = TabularCPD (\n",
    "    variable='q0m1',\n",
    "    variable_card = 4,\n",
    "    values = [\n",
    "        [ 1,0,0,0, 1,0,0,0 ],\n",
    "        [ 0,1,0,0, 0,-1,0,0 ],\n",
    "        [ 0,0,1,0, 0,0,-1,0 ],\n",
    "        [ -1,0,0,1, 1,0,0,-1 ],\n",
    "    ],\n",
    "    evidence = [ 'rv', 'q0m0' ],\n",
    "    evidence_card = [2,4],\n",
    "    state_names={'rv': ['I', 'AD'], 'q0m0': ['I', 'X', 'Y', 'Z'], 'q0m1': ['I', 'X', 'Y', 'Z']}\n",
    ")\n",
    "\n",
    "q0m2 = TabularCPD (\n",
    "    variable='q0m2',\n",
    "    variable_card = 4,\n",
    "    values = [\n",
    "        [ 1,0,0,0, 1,0,0,0 ],\n",
    "        [ 0,1,0,0, 0,1,0,0 ],\n",
    "        [ 0,0,1,0, 0,0,1,0 ],\n",
    "        [ 1,0,0,1, 1,0,0,-1 ],\n",
    "    ],\n",
    "    evidence = [ 'rv', 'q0m1' ],\n",
    "    evidence_card = [2,4],\n",
    "    state_names={'rv': ['I', 'AD'], 'q0m1': ['I', 'X', 'Y', 'Z'], 'q0m2': ['I', 'X', 'Y', 'Z']}\n",
    ")\n",
    "\n",
    "# meas = TabularCPD (\n",
    "#     variable='meas',\n",
    "#     variable_card = 2,\n",
    "#     values = [\n",
    "#         [ 1,1,0,0 ],\n",
    "#         [ 1,-1,0,0 ],\n",
    "#     ],\n",
    "#     evidence = ['q0m1'],\n",
    "#     evidence_card = [4],\n",
    "#     state_names={'q0m1': ['I', 'X', 'Y', 'Z'], 'meas': ['|+><+|', '|-><-|']}\n",
    "# )\n",
    "\n",
    "AmplitudeDamping = BayesianNetwork([\n",
    "    ('q0m0', 'q0m1'),\n",
    "#    ('rv', 'rv0'),\n",
    "    ('rv', 'q0m1'),\n",
    "    ('q0m1', 'q0m2'),\n",
    "#    ('rv', 'rv1'),\n",
    "    ('rv', 'q0m2'),\n",
    "    # ('q0m2', 'meas'),\n",
    "])\n",
    "\n",
    "AmplitudeDamping.add_cpds(\n",
    "    q0m0,\n",
    "    rv,\n",
    "    #rv0,\n",
    "    q0m1,\n",
    "    #rv1,\n",
    "    q0m2,\n",
    "    # meas\n",
    ")"
   ]
  },
  {
   "cell_type": "code",
   "execution_count": 8,
   "id": "63a5673f",
   "metadata": {},
   "outputs": [
    {
     "name": "stdout",
     "output_type": "stream",
     "text": [
      "<class 'pgmpy.factors.discrete.DiscreteFactor.DiscreteFactor'>\n",
      "+---------+-------------+\n",
      "| q0m2    |   phi(q0m2) |\n",
      "+=========+=============+\n",
      "| q0m2(I) |      0.5000 |\n",
      "+---------+-------------+\n",
      "| q0m2(X) |     -0.4000 |\n",
      "+---------+-------------+\n",
      "| q0m2(Y) |      0.0000 |\n",
      "+---------+-------------+\n",
      "| q0m2(Z) |      0.0000 |\n",
      "+---------+-------------+\n"
     ]
    }
   ],
   "source": [
    "outcome = VariableElimination(AmplitudeDamping.to_markov_model()).query(['q0m2'])\n",
    "print(type(outcome))\n",
    "print(outcome)"
   ]
  },
  {
   "cell_type": "code",
   "execution_count": 13,
   "id": "6432285b",
   "metadata": {},
   "outputs": [
    {
     "name": "stdout",
     "output_type": "stream",
     "text": [
      "+--------+-----------+\n",
      "| rv     |   phi(rv) |\n",
      "+========+===========+\n",
      "| rv(I)  |    0.4500 |\n",
      "+--------+-----------+\n",
      "| rv(AD) |    0.0500 |\n",
      "+--------+-----------+\n"
     ]
    }
   ],
   "source": [
    "AmplitudeDampingParam = BayesianNetwork([\n",
    "    ('q0m0', 'q0m1'),\n",
    "    ('rv', 'q0m1'),\n",
    "    ('q0m1', 'q0m2'),\n",
    "    ('rv', 'q0m2')\n",
    "    # ('q0m1', 'meas'),\n",
    "])\n",
    "AmplitudeDampingParam.add_cpds(q0m0,q0m1, q0m2)\n",
    "AmplitudeDampingParamMN = AmplitudeDampingParam.to_markov_model()\n",
    "AmplitudeDampingParamMN.add_factors(outcome)\n",
    "print(VariableElimination(AmplitudeDampingParamMN).query(['rv']))"
   ]
  }
 ],
 "metadata": {
  "kernelspec": {
   "display_name": "Python 3 (ipykernel)",
   "language": "python",
   "name": "python3"
  },
  "language_info": {
   "codemirror_mode": {
    "name": "ipython",
    "version": 3
   },
   "file_extension": ".py",
   "mimetype": "text/x-python",
   "name": "python",
   "nbconvert_exporter": "python",
   "pygments_lexer": "ipython3",
   "version": "3.8.8"
  }
 },
 "nbformat": 4,
 "nbformat_minor": 5
}
